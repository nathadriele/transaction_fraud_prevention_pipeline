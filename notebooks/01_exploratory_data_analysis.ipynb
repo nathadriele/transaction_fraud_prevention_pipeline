{
 "cells": [
  {
   "cell_type": "markdown",
   "metadata": {},
   "source": [
    "# Análise Exploratória de Dados - Sistema de Prevenção de Fraudes\n",
    "\n",
    "Este notebook apresenta uma análise exploratória completa dos dados transacionais para detecção de fraudes.\n",
    "\n",
    "## Objetivos\n",
    "- Entender a distribuição dos dados\n",
    "- Identificar padrões de fraude\n",
    "- Detectar anomalias\n",
    "- Gerar insights para modelagem"
   ]
  },
  {
   "cell_type": "code",
   "execution_count": null,
   "metadata": {},
   "outputs": [],
   "source": [
    "# Importações necessárias\n",
    "import pandas as pd\n",
    "import numpy as np\n",
    "import matplotlib.pyplot as plt\n",
    "import seaborn as sns\n",
    "import plotly.express as px\n",
    "import plotly.graph_objects as go\n",
    "from plotly.subplots import make_subplots\n",
    "import warnings\n",
    "import sys\n",
    "import os\n",
    "\n",
    "# Adiciona o diretório raiz ao path\n",
    "sys.path.append('..')\n",
    "\n",
    "# Importações do projeto\n",
    "from src.data.data_loader import DataLoader\n",
    "from src.data.exploratory_analysis import ExploratoryDataAnalysis\n",
    "from src.utils.helpers import format_currency, format_percentage\n",
    "\n",
    "# Configurações\n",
    "warnings.filterwarnings('ignore')\n",
    "try:\n",
    "    plt.style.use('seaborn-v0_8')\n",
    "except:\n",
    "    plt.style.use('default')\n",
    "pd.set_option('display.max_columns', None)\n",
    "pd.set_option('display.max_rows', 100)\n",
    "\n",
    "print(\"✅ Bibliotecas importadas com sucesso!\")"
   ]
  },
  {
   "cell_type": "markdown",
   "metadata": {},
   "source": [
    "## Carregamento dos Dados"
   ]
  },
  {
   "cell_type": "code",
   "execution_count": null,
   "metadata": {},
   "outputs": [],
   "source": [
    "# Carrega dados\n",
    "loader = DataLoader()\n",
    "users_df, transactions_df = loader.load_synthetic_data()\n",
    "\n",
    "print(f\"Dados carregados:\")\n",
    "print(f\"   - Usuários: {len(users_df):,}\")\n",
    "print(f\"   - Transações: {len(transactions_df):,}\")\n",
    "print(f\"   - Período: {transactions_df['timestamp'].min()} a {transactions_df['timestamp'].max()}\")"
   ]
  },
  {
   "cell_type": "markdown",
   "metadata": {},
   "source": [
    "## Visão Geral dos Dados"
   ]
  },
  {
   "cell_type": "code",
   "execution_count": null,
   "metadata": {},
   "outputs": [],
   "source": [
    "# Informações básicas sobre transações\n",
    "print(\"Informações sobre Transações:\")\n",
    "print(transactions_df.info())\n",
    "\n",
    "print(\"\\nEstatísticas Descritivas:\")\n",
    "print(transactions_df.describe())"
   ]
  },
  {
   "cell_type": "code",
   "execution_count": null,
   "metadata": {},
   "outputs": [],
   "source": [
    "# Análise de fraudes\n",
    "fraud_stats = {\n",
    "    'total_transactions': len(transactions_df),\n",
    "    'fraud_transactions': transactions_df['is_fraud'].sum(),\n",
    "    'fraud_rate': transactions_df['is_fraud'].mean(),\n",
    "    'total_volume': transactions_df['amount'].sum(),\n",
    "    'fraud_volume': transactions_df[transactions_df['is_fraud']]['amount'].sum()\n",
    "}\n",
    "\n",
    "fraud_stats['fraud_volume_rate'] = fraud_stats['fraud_volume'] / fraud_stats['total_volume']\n",
    "\n",
    "print(\"Estatísticas de Fraude:\")\n",
    "print(f\"   - Total de transações: {fraud_stats['total_transactions']:,}\")\n",
    "print(f\"   - Transações fraudulentas: {fraud_stats['fraud_transactions']:,}\")\n",
    "print(f\"   - Taxa de fraude: {format_percentage(fraud_stats['fraud_rate'])}\")\n",
    "print(f\"   - Volume total: {format_currency(fraud_stats['total_volume'])}\")\n",
    "print(f\"   - Volume de fraude: {format_currency(fraud_stats['fraud_volume'])}\")\n",
    "print(f\"   - Taxa de volume fraudulento: {format_percentage(fraud_stats['fraud_volume_rate'])}\")"
   ]
  },
  {
   "cell_type": "markdown",
   "metadata": {},
   "source": [
    "## Análise de Distribuições"
   ]
  },
  {
   "cell_type": "code",
   "execution_count": null,
   "metadata": {},
   "outputs": [],
   "source": [
    "# Distribuição de valores\n",
    "fig, axes = plt.subplots(2, 2, figsize=(15, 10))\n",
    "\n",
    "# Histograma geral\n",
    "axes[0, 0].hist(transactions_df['amount'], bins=50, alpha=0.7, color='blue')\n",
    "axes[0, 0].set_title('Distribuição de Valores - Todas as Transações')\n",
    "axes[0, 0].set_xlabel('Valor (R$)')\n",
    "axes[0, 0].set_ylabel('Frequência')\n",
    "\n",
    "# Histograma por tipo\n",
    "fraud_amounts = transactions_df[transactions_df['is_fraud']]['amount']\n",
    "legit_amounts = transactions_df[~transactions_df['is_fraud']]['amount']\n",
    "\n",
    "axes[0, 1].hist(legit_amounts, bins=50, alpha=0.7, label='Legítimas', color='green')\n",
    "axes[0, 1].hist(fraud_amounts, bins=50, alpha=0.7, label='Fraudes', color='red')\n",
    "axes[0, 1].set_title('Distribuição de Valores por Tipo')\n",
    "axes[0, 1].set_xlabel('Valor (R$)')\n",
    "axes[0, 1].set_ylabel('Frequência')\n",
    "axes[0, 1].legend()\n",
    "\n",
    "# Box plot\n",
    "transactions_df.boxplot(column='amount', by='is_fraud', ax=axes[1, 0])\n",
    "axes[1, 0].set_title('Box Plot - Valores por Tipo')\n",
    "axes[1, 0].set_xlabel('É Fraude?')\n",
    "axes[1, 0].set_ylabel('Valor (R$)')\n",
    "\n",
    "# Distribuição por hora\n",
    "hourly_counts = transactions_df.groupby(['transaction_hour', 'is_fraud']).size().unstack(fill_value=0)\n",
    "hourly_counts.plot(kind='bar', ax=axes[1, 1], color=['green', 'red'])\n",
    "axes[1, 1].set_title('Transações por Hora do Dia')\n",
    "axes[1, 1].set_xlabel('Hora')\n",
    "axes[1, 1].set_ylabel('Número de Transações')\n",
    "axes[1, 1].legend(['Legítimas', 'Fraudes'])\n",
    "axes[1, 1].tick_params(axis='x', rotation=0)\n",
    "\n",
    "plt.tight_layout()\n",
    "plt.show()"
   ]
  },
  {
   "cell_type": "markdown",
   "metadata": {},
   "source": [
    "## Análise Temporal"
   ]
  },
  {
   "cell_type": "code",
   "execution_count": null,
   "metadata": {},
   "outputs": [],
   "source": [
    "# Análise por hora do dia\n",
    "hourly_fraud_rate = transactions_df.groupby('transaction_hour')['is_fraud'].agg(['count', 'sum', 'mean']).reset_index()\n",
    "hourly_fraud_rate.columns = ['hour', 'total_transactions', 'fraud_count', 'fraud_rate']\n",
    "\n",
    "# Gráfico interativo\n",
    "fig = make_subplots(\n",
    "    rows=2, cols=1,\n",
    "    subplot_titles=('Volume de Transações por Hora', 'Taxa de Fraude por Hora'),\n",
    "    specs=[[{\"secondary_y\": False}], [{\"secondary_y\": False}]]\n",
    ")\n",
    "\n",
    "# Volume por hora\n",
    "fig.add_trace(\n",
    "    go.Bar(x=hourly_fraud_rate['hour'], y=hourly_fraud_rate['total_transactions'], \n",
    "           name='Total de Transações', marker_color='lightblue'),\n",
    "    row=1, col=1\n",
    ")\n",
    "\n",
    "# Taxa de fraude por hora\n",
    "fig.add_trace(\n",
    "    go.Scatter(x=hourly_fraud_rate['hour'], y=hourly_fraud_rate['fraud_rate'], \n",
    "               mode='lines+markers', name='Taxa de Fraude', line=dict(color='red')),\n",
    "    row=2, col=1\n",
    ")\n",
    "\n",
    "fig.update_layout(height=600, title_text=\"Análise Temporal - Transações por Hora\")\n",
    "fig.update_xaxes(title_text=\"Hora do Dia\", row=2, col=1)\n",
    "fig.update_yaxes(title_text=\"Número de Transações\", row=1, col=1)\n",
    "fig.update_yaxes(title_text=\"Taxa de Fraude\", row=2, col=1, tickformat='.2%')\n",
    "\n",
    "fig.show()\n",
    "\n",
    "print(\"⏰ Insights Temporais:\")\n",
    "print(f\"   - Hora com mais fraudes: {hourly_fraud_rate.loc[hourly_fraud_rate['fraud_count'].idxmax(), 'hour']}h\")\n",
    "print(f\"   - Hora com maior taxa de fraude: {hourly_fraud_rate.loc[hourly_fraud_rate['fraud_rate'].idxmax(), 'hour']}h\")\n",
    "print(f\"   - Taxa média de fraude: {hourly_fraud_rate['fraud_rate'].mean():.2%}\")"
   ]
  },
  {
   "cell_type": "markdown",
   "metadata": {},
   "source": [
    "## Análise por Categoria de Comerciante"
   ]
  },
  {
   "cell_type": "code",
   "execution_count": null,
   "metadata": {},
   "outputs": [],
   "source": [
    "# Análise por categoria\n",
    "category_analysis = transactions_df.groupby('merchant_category').agg({\n",
    "    'amount': ['count', 'sum', 'mean'],\n",
    "    'is_fraud': ['sum', 'mean']\n",
    "}).round(4)\n",
    "\n",
    "category_analysis.columns = ['total_transactions', 'total_volume', 'avg_amount', 'fraud_count', 'fraud_rate']\n",
    "category_analysis = category_analysis.sort_values('fraud_rate', ascending=False)\n",
    "\n",
    "print(\"Análise por Categoria de Comerciante:\")\n",
    "print(category_analysis)\n",
    "\n",
    "# Gráfico de taxa de fraude por categoria\n",
    "fig = px.bar(\n",
    "    x=category_analysis.index,\n",
    "    y=category_analysis['fraud_rate'],\n",
    "    title='Taxa de Fraude por Categoria de Comerciante',\n",
    "    labels={'x': 'Categoria', 'y': 'Taxa de Fraude'},\n",
    "    color=category_analysis['fraud_rate'],\n",
    "    color_continuous_scale='Reds'\n",
    ")\n",
    "fig.update_xaxes(tickangle=45)\n",
    "fig.update_yaxes(tickformat='.2%')\n",
    "fig.show()\n",
    "\n",
    "print(f\"\\nTop 3 categorias com maior taxa de fraude:\")\n",
    "for i, (category, row) in enumerate(category_analysis.head(3).iterrows()):\n",
    "    print(f\"   {i+1}. {category}: {row['fraud_rate']:.2%} ({row['fraud_count']:.0f} fraudes)\")"
   ]
  },
  {
   "cell_type": "markdown",
   "metadata": {},
   "source": [
    "## Análise por Método de Pagamento"
   ]
  },
  {
   "cell_type": "code",
   "execution_count": null,
   "metadata": {},
   "outputs": [],
   "source": [
    "# Análise por método de pagamento\n",
    "payment_analysis = transactions_df.groupby('payment_method').agg({\n",
    "    'amount': ['count', 'sum', 'mean'],\n",
    "    'is_fraud': ['sum', 'mean']\n",
    "}).round(4)\n",
    "\n",
    "payment_analysis.columns = ['total_transactions', 'total_volume', 'avg_amount', 'fraud_count', 'fraud_rate']\n",
    "payment_analysis = payment_analysis.sort_values('fraud_rate', ascending=False)\n",
    "\n",
    "# Gráficos\n",
    "fig, axes = plt.subplots(1, 2, figsize=(15, 6))\n",
    "\n",
    "# Distribuição de métodos de pagamento\n",
    "payment_counts = transactions_df['payment_method'].value_counts()\n",
    "axes[0].pie(payment_counts.values, labels=payment_counts.index, autopct='%1.1f%%')\n",
    "axes[0].set_title('Distribuição por Método de Pagamento')\n",
    "\n",
    "# Taxa de fraude por método\n",
    "payment_analysis['fraud_rate'].plot(kind='bar', ax=axes[1], color='coral')\n",
    "axes[1].set_title('Taxa de Fraude por Método de Pagamento')\n",
    "axes[1].set_ylabel('Taxa de Fraude')\n",
    "axes[1].tick_params(axis='x', rotation=45)\n",
    "axes[1].yaxis.set_major_formatter(plt.FuncFormatter(lambda y, _: '{:.1%}'.format(y)))\n",
    "\n",
    "plt.tight_layout()\n",
    "plt.show()\n",
    "\n",
    "print(\"Análise por Método de Pagamento:\")\n",
    "print(payment_analysis)"
   ]
  },
  {
   "cell_type": "markdown",
   "metadata": {},
   "source": [
    "## Análise Geográfica"
   ]
  },
  {
   "cell_type": "code",
   "execution_count": null,
   "metadata": {},
   "outputs": [],
   "source": [
    "# Análise por país\n",
    "country_analysis = transactions_df.groupby('country').agg({\n",
    "    'amount': ['count', 'sum'],\n",
    "    'is_fraud': ['sum', 'mean']\n",
    "}).round(4)\n",
    "\n",
    "country_analysis.columns = ['total_transactions', 'total_volume', 'fraud_count', 'fraud_rate']\n",
    "country_analysis = country_analysis.sort_values('fraud_rate', ascending=False)\n",
    "\n",
    "print(\"Análise por País:\")\n",
    "print(country_analysis)\n",
    "\n",
    "# Gráfico de países com maior risco\n",
    "top_risk_countries = country_analysis.head(10)\n",
    "\n",
    "fig = px.bar(\n",
    "    x=top_risk_countries.index,\n",
    "    y=top_risk_countries['fraud_rate'],\n",
    "    title='Taxa de Fraude por País (Top 10)',\n",
    "    labels={'x': 'País', 'y': 'Taxa de Fraude'},\n",
    "    color=top_risk_countries['fraud_rate'],\n",
    "    color_continuous_scale='Reds'\n",
    ")\n",
    "fig.update_yaxes(tickformat='.2%')\n",
    "fig.show()"
   ]
  },
  {
   "cell_type": "markdown",
   "metadata": {},
   "source": [
    "## Detecção de Anomalias"
   ]
  },
  {
   "cell_type": "code",
   "execution_count": null,
   "metadata": {},
   "outputs": [],
   "source": [
    "# Executa análise completa usando o módulo EDA\n",
    "eda = ExploratoryDataAnalysis()\n",
    "\n",
    "# Gera análises\n",
    "overview = eda.generate_data_overview(transactions_df)\n",
    "patterns = eda.analyze_fraud_patterns(transactions_df)\n",
    "anomalies = eda.detect_anomalies(transactions_df)\n",
    "\n",
    "print(\"Anomalias Detectadas:\")\n",
    "print(f\"   - Outliers por IQR: {anomalies['amount_anomalies']['outliers_iqr_count']:,} ({anomalies['amount_anomalies']['outliers_iqr_percentage']:.2%})\")\n",
    "print(f\"   - Outliers por Z-score: {anomalies['amount_anomalies']['outliers_zscore_count']:,} ({anomalies['amount_anomalies']['outliers_zscore_percentage']:.2%})\")\n",
    "print(f\"   - Valores redondos suspeitos: {anomalies['amount_anomalies']['suspicious_round_amounts']:,}\")\n",
    "print(f\"   - Transações noturnas: {anomalies['temporal_anomalies']['night_transactions']:,} ({anomalies['temporal_anomalies']['night_percentage']:.2%})\")\n",
    "\n",
    "if 'velocity_anomalies' in anomalies:\n",
    "    print(f\"   - Usuários de alta velocidade: {anomalies['velocity_anomalies']['high_velocity_users']:,}\")"
   ]
  },
  {
   "cell_type": "markdown",
   "metadata": {},
   "source": [
    "## Matriz de Correlação"
   ]
  },
  {
   "cell_type": "code",
   "execution_count": null,
   "metadata": {},
   "outputs": [],
   "source": [
    "# Seleciona features numéricas para correlação\n",
    "numeric_features = transactions_df.select_dtypes(include=[np.number]).columns\n",
    "correlation_matrix = transactions_df[numeric_features].corr()\n",
    "\n",
    "# Heatmap de correlação\n",
    "plt.figure(figsize=(12, 10))\n",
    "mask = np.triu(np.ones_like(correlation_matrix, dtype=bool))\n",
    "sns.heatmap(correlation_matrix, mask=mask, annot=True, cmap='coolwarm', center=0,\n",
    "            square=True, linewidths=0.5, cbar_kws={\"shrink\": .8})\n",
    "plt.title('Matriz de Correlação - Features Numéricas')\n",
    "plt.tight_layout()\n",
    "plt.show()\n",
    "\n",
    "# Correlações mais fortes com fraude\n",
    "fraud_correlations = correlation_matrix['is_fraud'].abs().sort_values(ascending=False)\n",
    "print(\"Features mais correlacionadas com fraude:\")\n",
    "for feature, corr in fraud_correlations.head(10).items():\n",
    "    if feature != 'is_fraud':\n",
    "        print(f\"   - {feature}: {corr:.4f}\")"
   ]
  },
  {
   "cell_type": "markdown",
   "metadata": {},
   "source": [
    "## Conclusões e Insights\n",
    "\n",
    "### Principais Descobertas:\n",
    "\n",
    "1. **Taxa de Fraude**: A taxa geral de fraude é de aproximadamente 2%\n",
    "2. **Padrões Temporais**: Certas horas do dia apresentam maior risco\n",
    "3. **Categorias de Risco**: Algumas categorias de comerciantes são mais propensas a fraudes\n",
    "4. **Métodos de Pagamento**: Diferentes métodos apresentam riscos distintos\n",
    "5. **Anomalias**: Identificadas várias anomalias que podem indicar fraudes\n",
    "\n",
    "### Próximos Passos:\n",
    "\n",
    "1. **Feature Engineering**: Criar novas features baseadas nos insights\n",
    "2. **Modelagem**: Desenvolver modelos de ML para detecção automática\n",
    "3. **Regras de Negócio**: Implementar regras baseadas nos padrões identificados\n",
    "4. **Monitoramento**: Estabelecer alertas para anomalias em tempo real"
   ]
  }
 ],
 "metadata": {
  "kernelspec": {
   "display_name": "Python 3",
   "language": "python",
   "name": "python3"
  },
  "language_info": {
   "codemirror_mode": {
    "name": "ipython",
    "version": 3
   },
   "file_extension": ".py",
   "mimetype": "text/x-python",
   "name": "python",
   "nbconvert_exporter": "python",
   "pygments_lexer": "ipython3",
   "version": "3.9.0"
  }
 },
 "nbformat": 4,
 "nbformat_minor": 4
}
